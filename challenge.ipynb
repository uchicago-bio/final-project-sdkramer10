{
 "cells": [
  {
   "cell_type": "code",
   "execution_count": 1,
   "metadata": {
    "collapsed": false
   },
   "outputs": [],
   "source": [
    "from __future__ import division\n",
    "import pandas as pd\n",
    "import numpy as np\n",
    "from scipy.stats import mode\n",
    "import sklearn.metrics\n",
    "from sklearn.linear_model import LogisticRegression\n",
    "from sklearn.linear_model import LinearRegression\n",
    "from TumorTruths import TumorTruths"
   ]
  },
  {
   "cell_type": "code",
   "execution_count": 2,
   "metadata": {
    "collapsed": false
   },
   "outputs": [],
   "source": [
    "svnCalls = pd.read_csv('SNVCalls_IS1.txt', delimiter='\\t', dtype={'CHROM':pd.np.str})\n",
    "truths = TumorTruths('synthetic.challenge.set1.tumor.all.truth.vcf')\n",
    "genomicFeatures = pd.read_csv('GenomicFeatures_IS1.txt', delimiter='\\t', dtype={'CHROM':pd.np.str})"
   ]
  },
  {
   "cell_type": "code",
   "execution_count": 3,
   "metadata": {
    "collapsed": false
   },
   "outputs": [
    {
     "name": "stdout",
     "output_type": "stream",
     "text": [
      "122\n"
     ]
    }
   ],
   "source": [
    "resultsArray = truths.GetTruths(svnCalls)\n",
    "print len(svnCalls.columns)"
   ]
  },
  {
   "cell_type": "code",
   "execution_count": 4,
   "metadata": {
    "collapsed": false
   },
   "outputs": [
    {
     "data": {
      "text/plain": [
       "0.96532793990176247"
      ]
     },
     "execution_count": 4,
     "metadata": {},
     "output_type": "execute_result"
    }
   ],
   "source": [
    "mostCommonPredictions = mode(svnCalls[svnCalls.columns[3:-1]], axis=1)[0]\n",
    "sklearn.metrics.f1_score(mostCommonPredictions, resultsArray)"
   ]
  },
  {
   "cell_type": "code",
   "execution_count": 5,
   "metadata": {
    "collapsed": false
   },
   "outputs": [],
   "source": [
    "noSomatic = [i for i in range(len(resultsArray)) if resultsArray[i] == 0]\n",
    "nonSomaticSvns = svnCalls.iloc[noSomatic]\n",
    "nonSomaticGenomicFeatures = genomicFeatures[genomicFeatures['END'].isin(nonSomaticSvns['END'])]\n",
    "numFalsePositives = nonSomaticSvns[nonSomaticSvns.columns[3:-1]].sum(axis=1)"
   ]
  },
  {
   "cell_type": "code",
   "execution_count": 6,
   "metadata": {
    "collapsed": false
   },
   "outputs": [],
   "source": [
    "def ValuesMatch(prediction, result):\n",
    "    return 1 if prediction == result else 0\n",
    "\n",
    "valuesMatchFunc = np.vectorize(ValuesMatch)  \n",
    "correctPredictions = valuesMatchFunc(mostCommonPredictions[:,0], resultsArray)"
   ]
  },
  {
   "cell_type": "code",
   "execution_count": 102,
   "metadata": {
    "collapsed": false
   },
   "outputs": [
    {
     "name": "stdout",
     "output_type": "stream",
     "text": [
      "0\n",
      "3335821\n"
     ]
    }
   ],
   "source": [
    "features = nonSomaticGenomicFeatures\n",
    "# features = genomicFeatures\n",
    "predictions = numFalsePositives.values\n",
    "# predictions = correctPredictions\n",
    "# def Test(features, predictions):\n",
    "model = LinearRegression()\n",
    "#     X = (genomicFeatures['GCcontent'] - 0.5).values.reshape((len(genomicFeatures), 1))\n",
    "\n",
    "X1 = (features['NormalCoverage'] / (features['NormalCoverage'] + features['TumourCoverage'])) - 0.5\n",
    "X2 = features['GCcontent'] - 0.5\n",
    "X3 = features['Distance']\n",
    "X = np.ndarray((len(features), 2))\n",
    "X[:,0] = X1 * X1\n",
    "X[:,1] = X2 * X2\n",
    "model.fit(X, predictions)\n",
    "print np.min(features['Distance'])\n",
    "print np.max(features['Distance'])\n",
    "# print features.columns\n",
    "# print np.std(features['Distance'])\n",
    "# print features['Distance']"
   ]
  },
  {
   "cell_type": "code",
   "execution_count": 100,
   "metadata": {
    "collapsed": false
   },
   "outputs": [
    {
     "name": "stdout",
     "output_type": "stream",
     "text": [
      "[ 14.92168833   6.93074815]\n",
      "1.5759031614\n",
      "0.0138441172373\n"
     ]
    }
   ],
   "source": [
    "# model = Test(nonSomaticGenomicFeatures, numFalsePositives)\n",
    "# print model.coef_\n",
    "# print correctPredictions.shape\n",
    "# print np.zeros((100,)).T.shape\n",
    "# print correctPredictions\n",
    "print model.coef_\n",
    "print model.intercept_\n",
    "print model.score(X, predictions)"
   ]
  },
  {
   "cell_type": "code",
   "execution_count": 12,
   "metadata": {
    "collapsed": false
   },
   "outputs": [
    {
     "name": "stdout",
     "output_type": "stream",
     "text": [
      "(1, 211001)\n",
      "(211001,)\n"
     ]
    }
   ],
   "source": [
    "print X.T.shape\n",
    "print predictions.values.shape"
   ]
  },
  {
   "cell_type": "code",
   "execution_count": null,
   "metadata": {
    "collapsed": false
   },
   "outputs": [],
   "source": [
    "lowGcContent = genomicFeatures[genomicFeatures['GCcontent'] < 0.14]['END']\n",
    "# print svnCalls[svnCalls['END'].isin(lowGcContent)]\n",
    "for caller in lowGcContent:\n",
    "    svnCalls[caller] = np.zeros(len(svnCalls))"
   ]
  },
  {
   "cell_type": "code",
   "execution_count": null,
   "metadata": {
    "collapsed": false
   },
   "outputs": [],
   "source": [
    "# mostCommonPredictions = mode(svnCalls[svnCalls.columns[3:-1]], axis=1)[0]\n",
    "# sklearn.metrics.f1_score(mostCommonPredictions, resultsArray)\n",
    "print mode(svnCalls[svnCalls.columns[3:-1]])"
   ]
  },
  {
   "cell_type": "code",
   "execution_count": null,
   "metadata": {
    "collapsed": false
   },
   "outputs": [],
   "source": [
    "col =  genomicFeatures['TumourCoverage'] / (genomicFeatures['NormalCoverage'] + genomicFeatures['TumourCoverage'])\n",
    "len(genomicFeatures[col < 0.13])"
   ]
  },
  {
   "cell_type": "code",
   "execution_count": null,
   "metadata": {
    "collapsed": true
   },
   "outputs": [],
   "source": []
  },
  {
   "cell_type": "code",
   "execution_count": null,
   "metadata": {
    "collapsed": true
   },
   "outputs": [],
   "source": []
  }
 ],
 "metadata": {
  "kernelspec": {
   "display_name": "Python 2",
   "language": "python",
   "name": "python2"
  },
  "language_info": {
   "codemirror_mode": {
    "name": "ipython",
    "version": 2
   },
   "file_extension": ".py",
   "mimetype": "text/x-python",
   "name": "python",
   "nbconvert_exporter": "python",
   "pygments_lexer": "ipython2",
   "version": "2.7.8"
  }
 },
 "nbformat": 4,
 "nbformat_minor": 0
}
