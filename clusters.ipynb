{
 "cells": [
  {
   "cell_type": "code",
   "execution_count": 1,
   "metadata": {
    "collapsed": true
   },
   "outputs": [],
   "source": [
    "from __future__ import division\n",
    "import pandas as pd\n",
    "import numpy as np\n",
    "from TumorTruths import TumorTruths\n",
    "from scipy.stats import mode\n",
    "from sklearn.metrics import f1_score\n",
    "from sklearn.metrics.pairwise import manhattan_distances\n",
    "from DistanceClustering import DistanceClustering"
   ]
  },
  {
   "cell_type": "code",
   "execution_count": 2,
   "metadata": {
    "collapsed": true
   },
   "outputs": [],
   "source": [
    "class SomaticMutationClassifier:\n",
    "    \n",
    "    def __init__(self, num_clusters, percentile):\n",
    "        self.num_clusters = num_clusters\n",
    "        self.transformToPredictions = np.vectorize(lambda x: 1 if x >= percentile else 0) \n",
    "    \n",
    "    def fit(self, df):\n",
    "        kMediansClustering = DistanceClustering(self.num_clusters, manhattan_distances, np.median)\n",
    "        self.clusters, self.centers = kMediansClustering.fit(df.T.values)\n",
    "        \n",
    "    def predict(self, df):\n",
    "        predictions = np.zeros(len(df))\n",
    "        callersInPipeline = list()\n",
    "        \n",
    "        for i in range(0, self.num_clusters):\n",
    "            weight = len([1 for num in self.clusters  if num == i])\n",
    "            distances = manhattan_distances(df.T, self.centers[i])\n",
    "            bestIndex = np.argmin(distances)\n",
    "            bestCallerName = df.columns[bestIndex]\n",
    "            representativeCaller = df[bestCallerName]\n",
    "            callersInPipeline.append(bestCallerName)\n",
    "            predictions += weight * representativeCaller\n",
    "\n",
    "        predictions /= len(self.clusters)\n",
    "        predictions = self.transformToPredictions(predictions) \n",
    "        \n",
    "        return predictions, callersInPipeline"
   ]
  },
  {
   "cell_type": "code",
   "execution_count": 3,
   "metadata": {
    "collapsed": true
   },
   "outputs": [],
   "source": [
    "svnFiles = ['SNVCalls_IS1.txt', 'SNVCalls_IS2.txt', 'SNVCalls_IS3.txt', 'SNVCalls_IS4.txt']\n",
    "truthFiles = ['synthetic.challenge.set1.tumor.all.truth.vcf', 'synthetic.challenge.set2.tumor.all.truth.vcf', 'synthetic.challenge.set3.tumor.20pctmasked.truth.vcf', 'synthetic.challenge.set4.tumour.25pctmasked.truth.vcf']"
   ]
  },
  {
   "cell_type": "code",
   "execution_count": 4,
   "metadata": {
    "collapsed": false
   },
   "outputs": [
    {
     "name": "stdout",
     "output_type": "stream",
     "text": [
      "0.974775545105\n",
      "0.9400674968\n",
      "0.972480696892\n",
      "0.872547953153\n"
     ]
    }
   ],
   "source": [
    "for i in range(len(svnFiles)):\n",
    "    svnCalls = pd.read_csv(svnFiles[i], delimiter='\\t', dtype={'CHROM':pd.np.str})\n",
    "    truths = TumorTruths(truthFiles[i])\n",
    "\n",
    "    resultsArray = truths.GetTruths(svnCalls)\n",
    "    svnCalls = svnCalls[svnCalls.columns[3:-1]]\n",
    "    \n",
    "    somaticMutationClassifier = SomaticMutationClassifier(num_clusters=5, percentile=0.30)\n",
    "    somaticMutationClassifier.fit(svnCalls)\n",
    "    predictions, callersInPipeline = somaticMutationClassifier.predict(svnCalls)\n",
    "    print f1_score(predictions, resultsArray)"
   ]
  },
  {
   "cell_type": "code",
   "execution_count": null,
   "metadata": {
    "collapsed": false
   },
   "outputs": [],
   "source": [
    "mostCommonPredictions = mode(svnCalls, axis=1)[0]\n",
    "f1_score(mostCommonPredictions, resultsArray)"
   ]
  }
 ],
 "metadata": {
  "kernelspec": {
   "display_name": "Python 2",
   "language": "python",
   "name": "python2"
  },
  "language_info": {
   "codemirror_mode": {
    "name": "ipython",
    "version": 2
   },
   "file_extension": ".py",
   "mimetype": "text/x-python",
   "name": "python",
   "nbconvert_exporter": "python",
   "pygments_lexer": "ipython2",
   "version": "2.7.8"
  }
 },
 "nbformat": 4,
 "nbformat_minor": 0
}
