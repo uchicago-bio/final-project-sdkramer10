{
 "cells": [
  {
   "cell_type": "code",
   "execution_count": 1,
   "metadata": {
    "collapsed": true
   },
   "outputs": [],
   "source": [
    "from __future__ import division\n",
    "import pandas as pd\n",
    "import numpy as np\n",
    "from TumorTruths import TumorTruths\n",
    "from scipy.stats import mode\n",
    "from sklearn.metrics import f1_score\n",
    "from sklearn import cluster\n",
    "from sklearn.metrics.pairwise import cosine_similarity\n",
    "from sklearn.metrics.pairwise import manhattan_distances\n",
    "from sklearn.metrics.pairwise import euclidean_distances"
   ]
  },
  {
   "cell_type": "code",
   "execution_count": 2,
   "metadata": {
    "collapsed": false
   },
   "outputs": [],
   "source": [
    "svnCalls = pd.read_csv('SNVCalls_IS4.txt', delimiter='\\t', dtype={'CHROM':pd.np.str})\n",
    "truths = TumorTruths('synthetic.challenge.set4.tumour.25pctmasked.truth.vcf')"
   ]
  },
  {
   "cell_type": "code",
   "execution_count": 3,
   "metadata": {
    "collapsed": false
   },
   "outputs": [],
   "source": [
    "resultsArray = truths.GetTruths(svnCalls)"
   ]
  },
  {
   "cell_type": "code",
   "execution_count": 4,
   "metadata": {
    "collapsed": false
   },
   "outputs": [
    {
     "data": {
      "text/plain": [
       "0.83674707935062975"
      ]
     },
     "execution_count": 4,
     "metadata": {},
     "output_type": "execute_result"
    }
   ],
   "source": [
    "mostCommonPredictions = mode(svnCalls[svnCalls.columns[3:-1]], axis=1)[0]\n",
    "f1_score(mostCommonPredictions, resultsArray)"
   ]
  },
  {
   "cell_type": "code",
   "execution_count": 7,
   "metadata": {
    "collapsed": false
   },
   "outputs": [],
   "source": [
    "num_clusters = 5\n",
    "clusters, centers = kClustering(svnCalls[svnCalls.columns[3:-1]].T.values, np.median, manhattan_distances, num_clusters)\n",
    "# k_means = cluster.KMeans(n_clusters=num_clusters)\n",
    "# k_means.fit(svnCalls[svnCalls.columns[3:-1]].T)"
   ]
  },
  {
   "cell_type": "code",
   "execution_count": 8,
   "metadata": {
    "collapsed": false
   },
   "outputs": [],
   "source": [
    "def TransformEuclideanPointsToPredictions(point):\n",
    "    return 1 if point >= 0.50 else 0\n",
    "\n",
    "toPredictions = np.vectorize(TransformEuclideanPointsToPredictions) \n",
    "clusterPredictions = np.zeros(len(resultsArray))\n",
    "for i in range(0, num_clusters):\n",
    "#     weight = len([1 for num in k_means.labels_  if num == i ])\n",
    "    weight = len([1 for num in clusters  if num == i ])\n",
    "#     distances = manhattan_distances(svnCalls[svnCalls.columns[3:-1]].T, k_means.cluster_centers_[i])\n",
    "    distances = manhattan_distances(svnCalls[svnCalls.columns[3:-1]].T, centers[i])\n",
    "    bestIndex = np.argmin(distances)\n",
    "    representativeCaller = svnCalls[svnCalls.columns[3 + bestIndex]]\n",
    "    clusterPredictions += weight * representativeCaller\n",
    "\n",
    "# clusterPredictions /= len(k_means.labels_)\n",
    "clusterPredictions /= len(clusters)\n",
    "clusterPredictions = toPredictions(clusterPredictions)"
   ]
  },
  {
   "cell_type": "code",
   "execution_count": 9,
   "metadata": {
    "collapsed": false
   },
   "outputs": [
    {
     "data": {
      "text/plain": [
       "0.87254795315276124"
      ]
     },
     "execution_count": 9,
     "metadata": {},
     "output_type": "execute_result"
    }
   ],
   "source": [
    "f1_score(clusterPredictions, resultsArray)"
   ]
  },
  {
   "cell_type": "code",
   "execution_count": null,
   "metadata": {
    "collapsed": true
   },
   "outputs": [],
   "source": [
    "from __future__ import division\n",
    "import numpy as np\n",
    "import math\n",
    "from sklearn.metrics import pairwise\n",
    "\n",
    "def kMedoids(data, func, dist_func, k=5):\n",
    "\n",
    "    cluster = np.zeros(len(data))\n",
    "    finished = False\n",
    "    medoids = np.copy(data[0:5])\n",
    "\n",
    "    for i in range(len(data)):\n",
    "        distances = dist_func(data[i], medoids)\n",
    "        cluster[i] = np.argmin(distances)\n",
    "        \n",
    "    for i in range(k):\n",
    "        \n",
    "            \n",
    "#             d1 = dist_func(data[i], center1)\n",
    "#             d2 = dist_func(data[i], center2)\n",
    "#             newVal = 0 if (min(d1, d2) == d1) else 1\n",
    "\n",
    "#             if (newVal != cluster[i]):\n",
    "#                 finished = False\n",
    "# \n",
    "#             cluster[i] = newVal\n",
    "#         center1 = func(data[np.where(cluster == 0)], axis=0)\n",
    "#         center2 = func(data[np.where(cluster == 1)], axis=0)\n",
    "\n",
    "#     return cluster, centers"
   ]
  },
  {
   "cell_type": "code",
   "execution_count": null,
   "metadata": {
    "collapsed": false
   },
   "outputs": [],
   "source": [
    "kMedoids(svnCalls[svnCalls.columns[3:-1]].T.values, np.median, manhattan_distances)"
   ]
  },
  {
   "cell_type": "code",
   "execution_count": null,
   "metadata": {
    "collapsed": false
   },
   "outputs": [],
   "source": [
    "import pam\n",
    "\n",
    "results = pam.kmedoids(svnCalls[svnCalls.columns[3:-1]].T, 5)"
   ]
  },
  {
   "cell_type": "code",
   "execution_count": null,
   "metadata": {
    "collapsed": false
   },
   "outputs": [],
   "source": [
    "print results[2]"
   ]
  },
  {
   "cell_type": "code",
   "execution_count": null,
   "metadata": {
    "collapsed": false
   },
   "outputs": [],
   "source": [
    "def TransformEuclideanPointsToPredictions(point):\n",
    "    return 1 if point >= 0.5 else 0\n",
    "\n",
    "toPredictions = np.vectorize(TransformEuclideanPointsToPredictions) \n",
    "clusterPredictions = np.zeros(len(resultsArray))\n",
    "for i in range(0, 5):\n",
    "    weight = len(results[2][results[1][i]])\n",
    "    print weight\n",
    "    representativeCaller = svnCalls[svnCalls.columns[3 + results[1][i]]] \n",
    "#     print representativeCaller\n",
    "    clusterPredictions += weight * representativeCaller\n",
    "\n",
    "print np.max(clusterPredictions)\n",
    "print len(clusterPredictions)\n",
    "clusterPredictions /= len(svnCalls.columns) - 3\n",
    "clusterPredictions = toPredictions(clusterPredictions)"
   ]
  },
  {
   "cell_type": "code",
   "execution_count": null,
   "metadata": {
    "collapsed": false
   },
   "outputs": [],
   "source": [
    "print np.max(clusterPredictions)"
   ]
  },
  {
   "cell_type": "code",
   "execution_count": null,
   "metadata": {
    "collapsed": false
   },
   "outputs": [],
   "source": [
    "print cosine_similarity(svnCalls[svnCalls.columns[58]], svnCalls[svnCalls.columns[6]] )"
   ]
  },
  {
   "cell_type": "code",
   "execution_count": 6,
   "metadata": {
    "collapsed": false
   },
   "outputs": [],
   "source": [
    "def kClustering(data, func, dist_func, k):\n",
    "\n",
    "    clusters = np.zeros(len(data))\n",
    "    centers = np.copy(data[0:k])\n",
    "    \n",
    "    nextPossibleStartingCenter = 1\n",
    "    centersChosen = 1\n",
    "    while centersChosen < k:\n",
    "        centerAlreadyIncluded = False\n",
    "        \n",
    "        for i in range(centersChosen):\n",
    "            centerAlreadyIncluded |= np.array_equal(centers[i], data[nextPossibleStartingCenter])\n",
    "                \n",
    "        if not centerAlreadyIncluded:\n",
    "            centers[centersChosen] = data[nextPossibleStartingCenter]\n",
    "            centersChosen += 1\n",
    "            \n",
    "        nextPossibleStartingCenter += 1\n",
    "\n",
    "    while True:\n",
    "        distances = dist_func(data, centers)\n",
    "        newClusters = np.argmin(distances, axis=1)\n",
    "    \n",
    "        if np.array_equal(newClusters, clusters):\n",
    "            return clusters, centers\n",
    "\n",
    "        clusters = newClusters\n",
    "        centers = np.array([func(data[np.where(clusters == i)], axis=0) for i in range(k)])\n",
    "\n",
    "data = np.array(((0, 0),(0, 1),(0, 2),(0, 3),(0, 4),(0, 5),(1, 0),(1, 1),(1, 2),(1, 3),(1, 4),(1, 5),(3, 4),(3, 5)))"
   ]
  },
  {
   "cell_type": "code",
   "execution_count": null,
   "metadata": {
    "collapsed": false
   },
   "outputs": [],
   "source": [
    "print (svnCalls[svnCalls.columns[3:-1]]).T.values[1].shape"
   ]
  },
  {
   "cell_type": "code",
   "execution_count": null,
   "metadata": {
    "collapsed": true
   },
   "outputs": [],
   "source": []
  }
 ],
 "metadata": {
  "kernelspec": {
   "display_name": "Python 2",
   "language": "python",
   "name": "python2"
  },
  "language_info": {
   "codemirror_mode": {
    "name": "ipython",
    "version": 2
   },
   "file_extension": ".py",
   "mimetype": "text/x-python",
   "name": "python",
   "nbconvert_exporter": "python",
   "pygments_lexer": "ipython2",
   "version": "2.7.8"
  }
 },
 "nbformat": 4,
 "nbformat_minor": 0
}
