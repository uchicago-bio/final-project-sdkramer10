{
 "cells": [
  {
   "cell_type": "code",
   "execution_count": 1,
   "metadata": {
    "collapsed": true
   },
   "outputs": [],
   "source": [
    "from __future__ import division\n",
    "import pandas as pd\n",
    "import numpy as np\n",
    "from TumorTruths import TumorTruths\n",
    "from scipy.stats import mode\n",
    "from sklearn.metrics import f1_score\n",
    "# from sklearn import cluster\n",
    "# from sklearn.metrics.pairwise import cosine_similarity\n",
    "from sklearn.metrics.pairwise import manhattan_distances\n",
    "# from sklearn.metrics.pairwise import euclidean_distances\n",
    "from DistanceClustering import DistanceClustering"
   ]
  },
  {
   "cell_type": "code",
   "execution_count": 2,
   "metadata": {
    "collapsed": false
   },
   "outputs": [],
   "source": [
    "svnCalls = pd.read_csv('SNVCalls_IS4.txt', delimiter='\\t', dtype={'CHROM':pd.np.str})\n",
    "truths = TumorTruths('synthetic.challenge.set4.tumour.25pctmasked.truth.vcf')"
   ]
  },
  {
   "cell_type": "code",
   "execution_count": 3,
   "metadata": {
    "collapsed": false
   },
   "outputs": [],
   "source": [
    "resultsArray = truths.GetTruths(svnCalls)\n",
    "svnCalls = svnCalls[svnCalls.columns[3:-1]]"
   ]
  },
  {
   "cell_type": "code",
   "execution_count": 4,
   "metadata": {
    "collapsed": false
   },
   "outputs": [],
   "source": [
    "class SomaticMutationClassifier:\n",
    "    \n",
    "    def __init__(self, num_clusters, inflection_point):\n",
    "        self.num_clusters = num_clusters\n",
    "        self.transformToPredictions = np.vectorize(lambda x: 1 if x >= inflection_point else 0) \n",
    "    \n",
    "    def fit(self, df):\n",
    "        kMediansClustering = DistanceClustering(num_clusters, manhattan_distances, np.median)\n",
    "        self.clusters, self.centers = kMediansClustering.fit(df.T.values)\n",
    "        \n",
    "    def predict(self, df):\n",
    "        predictions = np.zeros(len(df))\n",
    "        callersInPipeline = list()\n",
    "        \n",
    "        for i in range(0, self.num_clusters):\n",
    "            weight = len([1 for num in self.clusters  if num == i])\n",
    "            distances = manhattan_distances(df.T, self.centers[i])\n",
    "            bestIndex = np.argmin(distances)\n",
    "            bestCallerName = df.columns[bestIndex]\n",
    "            representativeCaller = df[bestCallerName]\n",
    "            callersInPipeline.append(bestCallerName)\n",
    "            predictions += weight * representativeCaller\n",
    "\n",
    "        predictions /= len(self.clusters)\n",
    "        predictions = self.transformToPredictions(predictions) \n",
    "        \n",
    "        return predictions, callersInPipeline\n",
    "\n",
    "num_clusters = 5\n",
    "somaticMutationClassifier = SomaticMutationClassifier(num_clusters, 0.50)\n",
    "somaticClustering.fit(svnCalls)\n",
    "predictions, callersInPipeline = somaticMutationClassifier.predict(svnCalls)"
   ]
  },
  {
   "cell_type": "code",
   "execution_count": 5,
   "metadata": {
    "collapsed": false
   },
   "outputs": [
    {
     "data": {
      "text/plain": [
       "0.87254795315276124"
      ]
     },
     "execution_count": 5,
     "metadata": {},
     "output_type": "execute_result"
    }
   ],
   "source": [
    "f1_score(predictions, resultsArray)"
   ]
  },
  {
   "cell_type": "code",
   "execution_count": 6,
   "metadata": {
    "collapsed": false
   },
   "outputs": [
    {
     "data": {
      "text/plain": [
       "0.83674707935062975"
      ]
     },
     "execution_count": 6,
     "metadata": {},
     "output_type": "execute_result"
    }
   ],
   "source": [
    "mostCommonPredictions = mode(svnCalls, axis=1)[0]\n",
    "f1_score(mostCommonPredictions, resultsArray)"
   ]
  },
  {
   "cell_type": "code",
   "execution_count": null,
   "metadata": {
    "collapsed": true
   },
   "outputs": [],
   "source": []
  }
 ],
 "metadata": {
  "kernelspec": {
   "display_name": "Python 2",
   "language": "python",
   "name": "python2"
  },
  "language_info": {
   "codemirror_mode": {
    "name": "ipython",
    "version": 2
   },
   "file_extension": ".py",
   "mimetype": "text/x-python",
   "name": "python",
   "nbconvert_exporter": "python",
   "pygments_lexer": "ipython2",
   "version": "2.7.8"
  }
 },
 "nbformat": 4,
 "nbformat_minor": 0
}
