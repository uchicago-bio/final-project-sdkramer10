{
 "cells": [
  {
   "cell_type": "code",
   "execution_count": 1,
   "metadata": {
    "collapsed": true
   },
   "outputs": [],
   "source": [
    "from __future__ import division\n",
    "import pandas as pd\n",
    "import numpy as np\n",
    "from TumorTruths import TumorTruths\n",
    "from sklearn.metrics import f1_score"
   ]
  },
  {
   "cell_type": "code",
   "execution_count": 2,
   "metadata": {
    "collapsed": false
   },
   "outputs": [],
   "source": [
    "svnFiles = ['SNVCalls_IS1.txt', 'SNVCalls_IS2.txt', 'SNVCalls_IS3.txt', 'SNVCalls_IS4.txt']\n",
    "truthFiles = ['synthetic.challenge.set1.tumor.all.truth.vcf', 'synthetic.challenge.set2.tumor.all.truth.vcf', 'synthetic.challenge.set3.tumor.20pctmasked.truth.vcf', 'synthetic.challenge.set4.tumour.25pctmasked.truth.vcf']"
   ]
  },
  {
   "cell_type": "code",
   "execution_count": 3,
   "metadata": {
    "collapsed": false
   },
   "outputs": [],
   "source": [
    "def calculateF1ScoresByPercentile(svnFileName, truthFileName):\n",
    "    svnCalls = pd.read_csv(svnFileName, delimiter='\\t', dtype={'CHROM':pd.np.str})\n",
    "    truths = TumorTruths(truthFileName)\n",
    "    resultsArray = truths.GetTruths(svnCalls)\n",
    "    svnCalls = svnCalls[svnCalls.columns[3:-1]]\n",
    "\n",
    "    numPositivePredictions = svnCalls.sum(axis=1)\n",
    "    scoresByPercentile = np.zeros(100)\n",
    "\n",
    "    for percentile in range(100):\n",
    "        fractionalPercentile = percentile / 100\n",
    "        transformToPredictions = np.vectorize(lambda x: 1 if x >= (fractionalPercentile * len(svnCalls.columns)) else 0) \n",
    "        result = transformToPredictions(numPositivePredictions)\n",
    "        scoresByPercentile[percentile] = f1_score(result, resultsArray)    \n",
    "        \n",
    "    return scoresByPercentile"
   ]
  },
  {
   "cell_type": "code",
   "execution_count": 5,
   "metadata": {
    "collapsed": false
   },
   "outputs": [
    {
     "name": "stderr",
     "output_type": "stream",
     "text": [
      "c:\\Python27\\lib\\site-packages\\sklearn\\metrics\\classification.py:960: UndefinedMetricWarning: F-score is ill-defined and being set to 0.0 due to no true samples.\n",
      "  'recall', 'true', average, warn_for)\n"
     ]
    }
   ],
   "source": [
    "scoresByPercentile = np.zeros((len(svnFiles), 100))\n",
    "for k in range(len(svnFiles)):\n",
    "    scoresByPercentile[k] = calculateF1ScoresByPercentile(svnFiles[k], truthFiles[k])\n",
    "#     trainSvnFiles = svnFiles[:k] + svnFiles[k+1:]\n",
    "#     trainTruthFiles = truthFiles[:k] + truthFiles[k+1:]\n",
    "#     scoresByPercentile = np.zeros(100)\n",
    "\n",
    "#     for i in range(len(trainSvnFiles)):  \n",
    "#         scoresByPercentile += calculateF1ScoresByPercentile(trainSvnFiles[i], trainTruthFiles[i])\n",
    "\n",
    "#     print np.max(scoresByPercentile)\n",
    "#     print np.argmax(scoresByPercentile)\n",
    "#     break"
   ]
  },
  {
   "cell_type": "code",
   "execution_count": 11,
   "metadata": {
    "collapsed": false
   },
   "outputs": [],
   "source": [
    "from scipy import stats\n",
    "zScores = stats.zscore(scoresByPercentile, axis=1)\n",
    "medians = np.median(zScores, axis=0)"
   ]
  },
  {
   "cell_type": "code",
   "execution_count": 14,
   "metadata": {
    "collapsed": false
   },
   "outputs": [
    {
     "name": "stdout",
     "output_type": "stream",
     "text": [
      "30\n"
     ]
    }
   ],
   "source": [
    "print np.argmax(medians)"
   ]
  },
  {
   "cell_type": "code",
   "execution_count": null,
   "metadata": {
    "collapsed": false
   },
   "outputs": [],
   "source": [
    "import matplotlib.pyplot as plt\n",
    "plt.plot(range(100), result)\n",
    "plt.show()"
   ]
  },
  {
   "cell_type": "code",
   "execution_count": null,
   "metadata": {
    "collapsed": true
   },
   "outputs": [],
   "source": []
  }
 ],
 "metadata": {
  "kernelspec": {
   "display_name": "Python 2",
   "language": "python",
   "name": "python2"
  },
  "language_info": {
   "codemirror_mode": {
    "name": "ipython",
    "version": 2
   },
   "file_extension": ".py",
   "mimetype": "text/x-python",
   "name": "python",
   "nbconvert_exporter": "python",
   "pygments_lexer": "ipython2",
   "version": "2.7.8"
  }
 },
 "nbformat": 4,
 "nbformat_minor": 0
}
