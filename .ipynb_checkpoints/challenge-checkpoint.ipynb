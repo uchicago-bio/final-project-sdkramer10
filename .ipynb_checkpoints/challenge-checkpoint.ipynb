{
 "cells": [
  {
   "cell_type": "code",
   "execution_count": 1,
   "metadata": {
    "collapsed": false
   },
   "outputs": [],
   "source": [
    "import pandas as pd\n",
    "import vcf\n",
    "import numpy as np\n",
    "from scipy.stats import mode\n",
    "import sklearn.metrics\n",
    "from sklearn import cluster"
   ]
  },
  {
   "cell_type": "code",
   "execution_count": 2,
   "metadata": {
    "collapsed": false
   },
   "outputs": [],
   "source": [
    "def GetResultsArray(svnCalls, results):\n",
    "    \n",
    "    mutations = set()\n",
    "    for record in results:\n",
    "        mutations.add(record.POS)\n",
    "        \n",
    "    truthColumn = np.zeros(len(svnCalls))\n",
    "\n",
    "    i = 0\n",
    "    for pos in svnCalls['END']:\n",
    "        if pos in mutations:\n",
    "            truthColumn[i] = 1\n",
    "        i += 1\n",
    "        \n",
    "    return truthColumn"
   ]
  },
  {
   "cell_type": "code",
   "execution_count": 3,
   "metadata": {
    "collapsed": false
   },
   "outputs": [
    {
     "name": "stderr",
     "output_type": "stream",
     "text": [
      "c:\\Python27\\lib\\site-packages\\pandas\\io\\parsers.py:1159: DtypeWarning: Columns (0) have mixed types. Specify dtype option on import or set low_memory=False.\n",
      "  data = self._reader.read(nrows)\n"
     ]
    }
   ],
   "source": [
    "svnCalls= pd.read_csv('SNVCalls_IS1.txt', delimiter='\\t', dtype={'CHROM':pd.np.str})\n",
    "results = vcf.Reader(open('synthetic.challenge.set1.tumor.all.truth.vcf', 'rb'))\n",
    "genomicFeatures = pd.read_csv('GenomicFeatures_IS1.txt', delimiter='\\t', dtype={'CHROM':pd.np.str})"
   ]
  },
  {
   "cell_type": "code",
   "execution_count": 4,
   "metadata": {
    "collapsed": false
   },
   "outputs": [],
   "source": [
    "resultsArray = GetResultsArray(svnCalls, results)"
   ]
  },
  {
   "cell_type": "code",
   "execution_count": 5,
   "metadata": {
    "collapsed": false
   },
   "outputs": [
    {
     "data": {
      "text/plain": [
       "0.96532793990176247"
      ]
     },
     "execution_count": 5,
     "metadata": {},
     "output_type": "execute_result"
    }
   ],
   "source": [
    "mostCommonPredictions = mode(svnCalls[svnCalls.columns[3:-1]], axis=1)[0]\n",
    "sklearn.metrics.f1_score(mostCommonPredictions, resultsArray)"
   ]
  },
  {
   "cell_type": "code",
   "execution_count": 25,
   "metadata": {
    "collapsed": false
   },
   "outputs": [],
   "source": [
    "def ValuesMatch(prediction, result):\n",
    "    return 1 if prediction == result else 0\n",
    "\n",
    "valuesMatchFunc = np.vectorize(ValuesMatch)  \n",
    "correctPredictions = valuesMatchFunc(mostCommonPredictions[:,0], resultsArray)"
   ]
  },
  {
   "cell_type": "code",
   "execution_count": null,
   "metadata": {
    "collapsed": false
   },
   "outputs": [],
   "source": [
    "scoresByCaller = dict()\n",
    "for caller in svnCalls.columns[3:-1]:\n",
    "    score = np.sum(vfunc(svnCalls[caller], svnCalls['truth']))\n",
    "    scoresByCaller[caller] = score"
   ]
  },
  {
   "cell_type": "code",
   "execution_count": null,
   "metadata": {
    "collapsed": false
   },
   "outputs": [],
   "source": [
    "sorted(scoresByCaller, key=scoresByCaller.get, reverse=True)\n",
    "print scoresByCaller['X2343085']\n",
    "print len(svnCalls) - len(mutations)"
   ]
  },
  {
   "cell_type": "code",
   "execution_count": null,
   "metadata": {
    "collapsed": false
   },
   "outputs": [],
   "source": [
    "scoresByCaller = dict()\n",
    "for caller in svnCalls.columns[3:-1]:\n",
    "    score = sklearn.metrics.f1_score(svnCalls[caller], svnCalls['truth'])\n",
    "    scoresByCaller[caller] = score"
   ]
  },
  {
   "cell_type": "code",
   "execution_count": null,
   "metadata": {
    "collapsed": false
   },
   "outputs": [],
   "source": [
    "sorted(scoresByCaller, key=scoresByCaller.get, reverse=True)\n",
    "print scoresByCaller['X2343085']"
   ]
  },
  {
   "cell_type": "code",
   "execution_count": null,
   "metadata": {
    "collapsed": false
   },
   "outputs": [],
   "source": [
    "num_clusters = 6\n",
    "k_means = cluster.KMeans(n_clusters=num_clusters)\n",
    "k_means.fit(svnCalls[svnCalls.columns[3:-1]].T)"
   ]
  },
  {
   "cell_type": "code",
   "execution_count": null,
   "metadata": {
    "collapsed": false
   },
   "outputs": [],
   "source": [
    "def TransformEuclideanPointsToPredictions(point):\n",
    "    return 1 if point >= 0.5 else 0\n",
    "\n",
    "vfunc = np.vectorize(TransformEuclideanPointsToPredictions) \n",
    "for i in range(0, num_clusters):\n",
    "    clusterPredictions = vfunc(k_means.cluster_centers_[i])\n",
    "    print sklearn.metrics.f1_score(clusterPredictions, resultsArray)"
   ]
  },
  {
   "cell_type": "code",
   "execution_count": null,
   "metadata": {
    "collapsed": false
   },
   "outputs": [],
   "source": [
    "bestCluster = svnCalls[svnCalls.columns[3:-1]][np.where(k_means.labels_ == 0)[0]]\n",
    "clusterPredictions = mode(bestCluster, axis=1)[0]"
   ]
  },
  {
   "cell_type": "code",
   "execution_count": null,
   "metadata": {
    "collapsed": false
   },
   "outputs": [],
   "source": [
    "sklearn.metrics.f1_score(clusterPredictions, results)"
   ]
  },
  {
   "cell_type": "code",
   "execution_count": null,
   "metadata": {
    "collapsed": false
   },
   "outputs": [],
   "source": [
    "svnCalls[svnCalls.columns[3:-1]]"
   ]
  },
  {
   "cell_type": "code",
   "execution_count": null,
   "metadata": {
    "collapsed": true
   },
   "outputs": [],
   "source": []
  }
 ],
 "metadata": {
  "kernelspec": {
   "display_name": "Python 2",
   "language": "python",
   "name": "python2"
  },
  "language_info": {
   "codemirror_mode": {
    "name": "ipython",
    "version": 2
   },
   "file_extension": ".py",
   "mimetype": "text/x-python",
   "name": "python",
   "nbconvert_exporter": "python",
   "pygments_lexer": "ipython2",
   "version": "2.7.8"
  }
 },
 "nbformat": 4,
 "nbformat_minor": 0
}
